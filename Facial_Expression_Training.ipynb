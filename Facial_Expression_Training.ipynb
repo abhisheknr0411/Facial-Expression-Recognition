{
  "nbformat": 4,
  "nbformat_minor": 0,
  "metadata": {
    "accelerator": "GPU",
    "colab": {
      "name": "Facial_Expression_Training.ipynb",
      "provenance": [],
      "collapsed_sections": [
        "ni2PE3e0dPb8",
        "9LVhzLIVdPch",
        "-8MFVSVUdPdJ",
        "HqTkH7w2dPdy",
        "ws9DzoSKdPeR",
        "UOtHhu_VdPej"
      ]
    },
    "kernelspec": {
      "display_name": "Python 3",
      "language": "python",
      "name": "python3"
    },
    "language_info": {
      "codemirror_mode": {
        "name": "ipython",
        "version": 3
      },
      "file_extension": ".py",
      "mimetype": "text/x-python",
      "name": "python",
      "nbconvert_exporter": "python",
      "pygments_lexer": "ipython3",
      "version": "3.6.8"
    }
  },
  "cells": [
    {
      "cell_type": "markdown",
      "metadata": {
        "id": "m6NcYbDAdPbv",
        "colab_type": "text"
      },
      "source": [
        "<h1 align=center> Facial Expression Recognition</h1>"
      ]
    },
    {
      "cell_type": "markdown",
      "metadata": {
        "id": "ni2PE3e0dPb8",
        "colab_type": "text"
      },
      "source": [
        "### Import Libraries and print TF version"
      ]
    },
    {
      "cell_type": "code",
      "metadata": {
        "colab_type": "code",
        "id": "wvGxjjeV-9Ls",
        "colab": {}
      },
      "source": [
        "import numpy as np\n",
        "import seaborn as sns\n",
        "import matplotlib.pyplot as plt\n",
        "import utils\n",
        "import os\n",
        "%matplotlib inline\n",
        "\n",
        "from tensorflow.keras.preprocessing.image import ImageDataGenerator\n",
        "from tensorflow.keras.layers import Dense, Input, Dropout,Flatten, Conv2D\n",
        "from tensorflow.keras.layers import BatchNormalization, Activation, MaxPooling2D\n",
        "from tensorflow.keras.models import Model, Sequential\n",
        "from tensorflow.keras.optimizers import Adam\n",
        "from tensorflow.keras.callbacks import ModelCheckpoint, ReduceLROnPlateau\n",
        "from tensorflow.keras.utils import plot_model\n",
        "\n",
        "from IPython.display import SVG, Image\n",
        "from livelossplot import PlotLossesKerasTF\n",
        "import tensorflow as tf\n",
        "print(\"Tensorflow version:\", tf.__version__)"
      ],
      "execution_count": 0,
      "outputs": []
    },
    {
      "cell_type": "markdown",
      "metadata": {
        "id": "9LVhzLIVdPch",
        "colab_type": "text"
      },
      "source": [
        "### Plot Sample Images \n",
        "\n",
        "\n",
        "\n",
        "\n",
        "\n",
        "1.  Some images are plotted here at random using our utility function named 'fer.py'\n",
        "2.   The other line of code shows the number of images along with the label for our perusal.\n",
        "\n"
      ]
    },
    {
      "cell_type": "code",
      "metadata": {
        "id": "CYPbtZSudPco",
        "colab_type": "code",
        "colab": {}
      },
      "source": [
        "utils.datasets.fer.plot_example_images(plt).show()"
      ],
      "execution_count": 0,
      "outputs": []
    },
    {
      "cell_type": "code",
      "metadata": {
        "colab_type": "code",
        "id": "TalL_1Qr-9Qz",
        "colab": {}
      },
      "source": [
        "for expression in os.listdir(\"train/\"):\n",
        "    print(str(len(os.listdir(\"train/\" + expression))) + \" \" + expression + \" images\")"
      ],
      "execution_count": 0,
      "outputs": []
    },
    {
      "cell_type": "markdown",
      "metadata": {
        "id": "-8MFVSVUdPdJ",
        "colab_type": "text"
      },
      "source": [
        "### Generate Training and Validation Batches\n",
        "\n",
        "The labelled data is then passed through the ImageDataGenerator to validate and segregate for the machine according to the class it is present, futher it is also worked upon the test dataset in the same way and a statement is printed in the end."
      ]
    },
    {
      "cell_type": "code",
      "metadata": {
        "colab_type": "code",
        "id": "iri8ehFw-9Tj",
        "colab": {}
      },
      "source": [
        "img_size = 48\n",
        "batch_size = 64\n",
        "\n",
        "datagen_train = ImageDataGenerator(horizontal_flip=True)\n",
        "\n",
        "train_generator = datagen_train.flow_from_directory(\"train/\",\n",
        "                                                    target_size=(img_size,img_size),\n",
        "                                                    color_mode=\"grayscale\",\n",
        "                                                    batch_size=batch_size,\n",
        "                                                    class_mode='categorical',\n",
        "                                                    shuffle=True)\n",
        "\n",
        "datagen_validation = ImageDataGenerator(horizontal_flip=True)\n",
        "validation_generator = datagen_validation.flow_from_directory(\"test/\",\n",
        "                                                    target_size=(img_size,img_size),\n",
        "                                                    color_mode=\"grayscale\",\n",
        "                                                    batch_size=batch_size,\n",
        "                                                    class_mode='categorical',\n",
        "                                                    shuffle=False)"
      ],
      "execution_count": 0,
      "outputs": []
    },
    {
      "cell_type": "markdown",
      "metadata": {
        "id": "HqTkH7w2dPdy",
        "colab_type": "text"
      },
      "source": [
        "### Create CNN Model\n",
        "\n",
        "The model contains 4 Convolutional layers and in the end contains 2 Flattening layers along with a dense function to produce the output.\n",
        "\n",
        "![Model](data:image/png;base64,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)"
      ]
    },
    {
      "cell_type": "code",
      "metadata": {
        "id": "U4-5_D3bdPd1",
        "colab_type": "code",
        "colab": {},
        "outputId": "b6ca6cf9-7c0f-4b9e-c920-c7c1764de847"
      },
      "source": [
        "# Initialising the CNN\n",
        "model = Sequential()\n",
        "\n",
        "# 1 - Convolution\n",
        "model.add(Conv2D(64,(3,3), padding='same', input_shape=(48, 48,1)))\n",
        "model.add(BatchNormalization())\n",
        "model.add(Activation('relu'))\n",
        "model.add(MaxPooling2D(pool_size=(2, 2)))\n",
        "model.add(Dropout(0.25))\n",
        "\n",
        "# 2nd Convolution layer\n",
        "model.add(Conv2D(128,(5,5), padding='same'))\n",
        "model.add(BatchNormalization())\n",
        "model.add(Activation('relu'))\n",
        "model.add(MaxPooling2D(pool_size=(2, 2)))\n",
        "model.add(Dropout(0.25))\n",
        "\n",
        "# 3rd Convolution layer\n",
        "model.add(Conv2D(512,(3,3), padding='same'))\n",
        "model.add(BatchNormalization())\n",
        "model.add(Activation('relu'))\n",
        "model.add(MaxPooling2D(pool_size=(2, 2)))\n",
        "model.add(Dropout(0.25))\n",
        "\n",
        "# 4th Convolution layer\n",
        "model.add(Conv2D(512,(3,3), padding='same'))\n",
        "model.add(BatchNormalization())\n",
        "model.add(Activation('relu'))\n",
        "model.add(MaxPooling2D(pool_size=(2, 2)))\n",
        "model.add(Dropout(0.25))\n",
        "\n",
        "# Flattening\n",
        "model.add(Flatten())\n",
        "\n",
        "# Fully connected layer 1st layer\n",
        "model.add(Dense(256))\n",
        "model.add(BatchNormalization())\n",
        "model.add(Activation('relu'))\n",
        "model.add(Dropout(0.25))\n",
        "\n",
        "# Fully connected layer 2nd layer\n",
        "model.add(Dense(512))\n",
        "model.add(BatchNormalization())\n",
        "model.add(Activation('relu'))\n",
        "model.add(Dropout(0.25))\n",
        "\n",
        "model.add(Dense(7, activation='softmax'))\n",
        "\n",
        "opt = Adam(lr=0.0005)\n",
        "model.compile(optimizer=opt, loss='categorical_crossentropy', metrics=['accuracy'])\n",
        "model.summary()"
      ],
      "execution_count": 0,
      "outputs": [
        {
          "output_type": "stream",
          "text": [
            "Model: \"sequential\"\n",
            "_________________________________________________________________\n",
            "Layer (type)                 Output Shape              Param #   \n",
            "=================================================================\n",
            "conv2d (Conv2D)              (None, 48, 48, 64)        640       \n",
            "_________________________________________________________________\n",
            "batch_normalization (BatchNo (None, 48, 48, 64)        256       \n",
            "_________________________________________________________________\n",
            "activation (Activation)      (None, 48, 48, 64)        0         \n",
            "_________________________________________________________________\n",
            "max_pooling2d (MaxPooling2D) (None, 24, 24, 64)        0         \n",
            "_________________________________________________________________\n",
            "dropout (Dropout)            (None, 24, 24, 64)        0         \n",
            "_________________________________________________________________\n",
            "conv2d_1 (Conv2D)            (None, 24, 24, 128)       204928    \n",
            "_________________________________________________________________\n",
            "batch_normalization_1 (Batch (None, 24, 24, 128)       512       \n",
            "_________________________________________________________________\n",
            "activation_1 (Activation)    (None, 24, 24, 128)       0         \n",
            "_________________________________________________________________\n",
            "max_pooling2d_1 (MaxPooling2 (None, 12, 12, 128)       0         \n",
            "_________________________________________________________________\n",
            "dropout_1 (Dropout)          (None, 12, 12, 128)       0         \n",
            "_________________________________________________________________\n",
            "conv2d_2 (Conv2D)            (None, 12, 12, 512)       590336    \n",
            "_________________________________________________________________\n",
            "batch_normalization_2 (Batch (None, 12, 12, 512)       2048      \n",
            "_________________________________________________________________\n",
            "activation_2 (Activation)    (None, 12, 12, 512)       0         \n",
            "_________________________________________________________________\n",
            "max_pooling2d_2 (MaxPooling2 (None, 6, 6, 512)         0         \n",
            "_________________________________________________________________\n",
            "dropout_2 (Dropout)          (None, 6, 6, 512)         0         \n",
            "_________________________________________________________________\n",
            "conv2d_3 (Conv2D)            (None, 6, 6, 512)         2359808   \n",
            "_________________________________________________________________\n",
            "batch_normalization_3 (Batch (None, 6, 6, 512)         2048      \n",
            "_________________________________________________________________\n",
            "activation_3 (Activation)    (None, 6, 6, 512)         0         \n",
            "_________________________________________________________________\n",
            "max_pooling2d_3 (MaxPooling2 (None, 3, 3, 512)         0         \n",
            "_________________________________________________________________\n",
            "dropout_3 (Dropout)          (None, 3, 3, 512)         0         \n",
            "_________________________________________________________________\n",
            "flatten (Flatten)            (None, 4608)              0         \n",
            "_________________________________________________________________\n",
            "dense (Dense)                (None, 256)               1179904   \n",
            "_________________________________________________________________\n",
            "batch_normalization_4 (Batch (None, 256)               1024      \n",
            "_________________________________________________________________\n",
            "activation_4 (Activation)    (None, 256)               0         \n",
            "_________________________________________________________________\n",
            "dropout_4 (Dropout)          (None, 256)               0         \n",
            "_________________________________________________________________\n",
            "dense_1 (Dense)              (None, 512)               131584    \n",
            "_________________________________________________________________\n",
            "batch_normalization_5 (Batch (None, 512)               2048      \n",
            "_________________________________________________________________\n",
            "activation_5 (Activation)    (None, 512)               0         \n",
            "_________________________________________________________________\n",
            "dropout_5 (Dropout)          (None, 512)               0         \n",
            "_________________________________________________________________\n",
            "dense_2 (Dense)              (None, 7)                 3591      \n",
            "=================================================================\n",
            "Total params: 4,478,727\n",
            "Trainable params: 4,474,759\n",
            "Non-trainable params: 3,968\n",
            "_________________________________________________________________\n"
          ],
          "name": "stdout"
        }
      ]
    },
    {
      "cell_type": "markdown",
      "metadata": {
        "id": "8CxRFSDmdPeB",
        "colab_type": "text"
      },
      "source": [
        " "
      ]
    },
    {
      "cell_type": "markdown",
      "metadata": {
        "id": "tUitywNNdPeD",
        "colab_type": "text"
      },
      "source": [
        " "
      ]
    },
    {
      "cell_type": "markdown",
      "metadata": {
        "id": "ws9DzoSKdPeR",
        "colab_type": "text"
      },
      "source": [
        "### Train and Evaluate Model"
      ]
    },
    {
      "cell_type": "code",
      "metadata": {
        "id": "9bPAmR0sdPeS",
        "colab_type": "code",
        "colab": {}
      },
      "source": [
        "%%time\n",
        "\n",
        "epochs = 15\n",
        "steps_per_epoch = train_generator.n//train_generator.batch_size\n",
        "validation_steps = validation_generator.n//validation_generator.batch_size\n",
        "\n",
        "reduce_lr = ReduceLROnPlateau(monitor='val_loss', factor=0.1,\n",
        "                              patience=2, min_lr=0.00001, mode='auto')\n",
        "checkpoint = ModelCheckpoint(\"model_weights.h5\", monitor='val_accuracy',\n",
        "                             save_weights_only=True, mode='max', verbose=1)\n",
        "callbacks = [PlotLossesKerasTF(), checkpoint, reduce_lr]\n",
        "\n",
        "history = model.fit(\n",
        "    x=train_generator,\n",
        "    steps_per_epoch=steps_per_epoch,\n",
        "    epochs=epochs,\n",
        "    validation_data = validation_generator,\n",
        "    validation_steps = validation_steps,\n",
        "    callbacks=callbacks\n",
        ")"
      ],
      "execution_count": 0,
      "outputs": []
    },
    {
      "cell_type": "markdown",
      "metadata": {
        "id": "UOtHhu_VdPej",
        "colab_type": "text"
      },
      "source": [
        "### Represent Model as JSON String"
      ]
    },
    {
      "cell_type": "code",
      "metadata": {
        "colab_type": "code",
        "id": "cHw8ir7CVAE0",
        "colab": {}
      },
      "source": [
        "model_json = model.to_json()\n",
        "with open(\"model.json\", \"w\") as json_file:\n",
        "    json_file.write(model_json)"
      ],
      "execution_count": 0,
      "outputs": []
    }
  ]
}